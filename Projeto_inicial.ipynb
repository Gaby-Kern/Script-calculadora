{
  "nbformat": 4,
  "nbformat_minor": 0,
  "metadata": {
    "colab": {
      "provenance": []
    },
    "kernelspec": {
      "name": "python3",
      "display_name": "Python 3"
    },
    "language_info": {
      "name": "python"
    }
  },
  "cells": [
    {
      "cell_type": "code",
      "source": [
        "print(\"Bem-vindo(a) à calculadora!\")\n"
      ],
      "metadata": {
        "colab": {
          "base_uri": "https://localhost:8080/"
        },
        "id": "nerV6PsN9tUa",
        "outputId": "30571e7d-92e0-48a9-f06a-a426589bfcb0"
      },
      "execution_count": 97,
      "outputs": [
        {
          "output_type": "stream",
          "name": "stdout",
          "text": [
            "Bem-vindo(a) à calculadora!\n"
          ]
        }
      ]
    },
    {
      "cell_type": "code",
      "source": [
        "while True:\n",
        "    valores = input('Digite 3 números separados por vírgula: ')\n",
        "    lista = valores.split(',')\n",
        "\n",
        "    if len(lista) != 3:\n",
        "        print('Erro: digite exatamente 3 números.')\n",
        "    else:\n",
        "      break"
      ],
      "metadata": {
        "colab": {
          "base_uri": "https://localhost:8080/"
        },
        "id": "ni5XjfJC4IOr",
        "outputId": "0830332b-f168-47d9-b4e1-a1759bc4f9dc"
      },
      "execution_count": 98,
      "outputs": [
        {
          "name": "stdout",
          "output_type": "stream",
          "text": [
            "Digite 3 números separados por vírgula: 3,5,7\n"
          ]
        }
      ]
    },
    {
      "cell_type": "code",
      "source": [
        "# Conversão dos valores\n",
        "valores_convert = [float(valor) for valor in lista]\n",
        "print (valores_convert)"
      ],
      "metadata": {
        "colab": {
          "base_uri": "https://localhost:8080/"
        },
        "id": "qCWsGiBR6vPi",
        "outputId": "fb7f5986-db3d-4b87-8420-2e2e1f33b9da"
      },
      "execution_count": 99,
      "outputs": [
        {
          "output_type": "stream",
          "name": "stdout",
          "text": [
            "[3.0, 5.0, 7.0]\n"
          ]
        }
      ]
    },
    {
      "source": [
        "a, b, c = valores_convert\n",
        "\n",
        "#Operações\n",
        "soma = a + b + c\n",
        "subtracao = a - b - c\n",
        "multiplicacao = a * b * c\n",
        "media = soma / 3\n",
        "print('Soma:', soma)\n",
        "print('Subtração:', subtracao)\n",
        "print('Multiplicação', multiplicacao)\n",
        "print('Media', media)"
      ],
      "cell_type": "code",
      "metadata": {
        "colab": {
          "base_uri": "https://localhost:8080/"
        },
        "id": "OciLNHclAl6Q",
        "outputId": "5b9f09fc-f884-4fd5-ae0c-c1364fe28ee1"
      },
      "execution_count": 100,
      "outputs": [
        {
          "output_type": "stream",
          "name": "stdout",
          "text": [
            "Soma: 15.0\n",
            "Subtração: -9.0\n",
            "Multiplicação 105.0\n",
            "Media 5.0\n"
          ]
        }
      ]
    },
    {
      "cell_type": "code",
      "source": [
        "# Divisão\n",
        "if b != 0 and c != 0:\n",
        "    divisao = a / b / c\n",
        "else:\n",
        "    divisao = 'Erro: divisão por zero'\n",
        "\n",
        "print('Divisão:', divisao)"
      ],
      "metadata": {
        "colab": {
          "base_uri": "https://localhost:8080/"
        },
        "id": "qKLgFn3O_11I",
        "outputId": "efadf765-94b9-48fd-815f-ac061f5f6ef6"
      },
      "execution_count": 101,
      "outputs": [
        {
          "output_type": "stream",
          "name": "stdout",
          "text": [
            "Divisão: 0.08571428571428572\n"
          ]
        }
      ]
    },
    {
      "cell_type": "code",
      "source": [
        "# Uso da repetição com um FOR\n",
        "for num in valores_convert:\n",
        "    print('Números com decimais', num)"
      ],
      "metadata": {
        "colab": {
          "base_uri": "https://localhost:8080/"
        },
        "id": "xDiQWr1gChOg",
        "outputId": "cbc3c35d-0e5f-41fa-eafe-55653cedb3aa"
      },
      "execution_count": 102,
      "outputs": [
        {
          "output_type": "stream",
          "name": "stdout",
          "text": [
            "Números com decimais 3.0\n",
            "Números com decimais 5.0\n",
            "Números com decimais 7.0\n"
          ]
        }
      ]
    },
    {
      "cell_type": "code",
      "source": [
        "# Encerramento\n",
        "opcao = input('Deseja encerrar o programa? (s/n): ')\n",
        "\n",
        "if opcao.lower() == 's':\n",
        "    print(\"Programa encerrado.\")\n",
        "else:\n",
        "    print(\"Vamos continuar com novos cálculos.\")"
      ],
      "metadata": {
        "colab": {
          "base_uri": "https://localhost:8080/"
        },
        "id": "KfGin6-iKuaz",
        "outputId": "b3c4bf4f-579e-4d1b-be5f-4cb99d2a3f8f"
      },
      "execution_count": 103,
      "outputs": [
        {
          "output_type": "stream",
          "name": "stdout",
          "text": [
            "Deseja encerrar o programa? (s/n): não\n",
            "Vamos continuar com novos cálculos.\n"
          ]
        }
      ]
    }
  ]
}